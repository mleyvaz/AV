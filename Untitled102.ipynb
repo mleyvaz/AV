{
  "nbformat": 4,
  "nbformat_minor": 0,
  "metadata": {
    "colab": {
      "provenance": [],
      "authorship_tag": "ABX9TyNMkkratJ2NW1s8RDpKjQKN",
      "include_colab_link": true
    },
    "kernelspec": {
      "name": "python3",
      "display_name": "Python 3"
    },
    "language_info": {
      "name": "python"
    },
    "accelerator": "GPU",
    "gpuClass": "standard"
  },
  "cells": [
    {
      "cell_type": "markdown",
      "metadata": {
        "id": "view-in-github",
        "colab_type": "text"
      },
      "source": [
        "<a href=\"https://colab.research.google.com/github/mleyvaz/AV/blob/master/Untitled102.ipynb\" target=\"_parent\"><img src=\"https://colab.research.google.com/assets/colab-badge.svg\" alt=\"Open In Colab\"/></a>"
      ]
    },
    {
      "cell_type": "code",
      "execution_count": 1,
      "metadata": {
        "colab": {
          "base_uri": "https://localhost:8080/"
        },
        "id": "dMWWAQCVeqaa",
        "outputId": "ecf111fe-c9b7-443d-8db6-549727b4ca6e"
      },
      "outputs": [
        {
          "output_type": "stream",
          "name": "stderr",
          "text": [
            "WARNING:tensorflow:From <ipython-input-1-1ddef8556c2e>:8: is_gpu_available (from tensorflow.python.framework.test_util) is deprecated and will be removed in a future version.\n",
            "Instructions for updating:\n",
            "Use `tf.config.list_physical_devices('GPU')` instead.\n"
          ]
        },
        {
          "output_type": "stream",
          "name": "stdout",
          "text": [
            "Microprocessor: x86_64\n",
            "GPU: Available\n"
          ]
        }
      ],
      "source": [
        "import platform\n",
        "import tensorflow as tf\n",
        "\n",
        "# Obtener información del microprocesador\n",
        "print(\"Microprocessor:\", platform.processor())\n",
        "\n",
        "# Verificar si se dispone de GPU\n",
        "if tf.test.is_gpu_available():\n",
        "    print(\"GPU: Available\")\n",
        "else:\n",
        "    print(\"GPU: Not available\")\n"
      ]
    }
  ]
}