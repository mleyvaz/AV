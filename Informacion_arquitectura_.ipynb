{
  "nbformat": 4,
  "nbformat_minor": 0,
  "metadata": {
    "colab": {
      "provenance": [],
      "authorship_tag": "ABX9TyOVfS2kz/JLy3pn/SkG+pp7",
      "include_colab_link": true
    },
    "kernelspec": {
      "name": "python3",
      "display_name": "Python 3"
    },
    "language_info": {
      "name": "python"
    }
  },
  "cells": [
    {
      "cell_type": "markdown",
      "metadata": {
        "id": "view-in-github",
        "colab_type": "text"
      },
      "source": [
        "<a href=\"https://colab.research.google.com/github/mleyvaz/AV/blob/master/Informacion_arquitectura_.ipynb\" target=\"_parent\"><img src=\"https://colab.research.google.com/assets/colab-badge.svg\" alt=\"Open In Colab\"/></a>"
      ]
    },
    {
      "cell_type": "code",
      "execution_count": 2,
      "metadata": {
        "colab": {
          "base_uri": "https://localhost:8080/"
        },
        "id": "sCx20fV9Xz_I",
        "outputId": "dd4551a5-f538-4889-ffc9-7638ce4c61f2"
      },
      "outputs": [
        {
          "output_type": "stream",
          "name": "stdout",
          "text": [
            "Sistema operativo: Linux\n",
            "Versión: 5.15.107+\n",
            "\n",
            "--- CPU ---\n",
            "Arquitectura: x86_64\n",
            "Núcleos físicos: 1\n",
            "Núcleos totales (incluyendo hilos lógicos): 2\n",
            "\n",
            "--- Memoria RAM ---\n",
            "Total: 12.68 GB\n",
            "Disponible: 11.51 GB\n",
            "\n",
            "--- GPU ---\n",
            "No se encontraron dispositivos GPU.\n",
            "\n",
            "Versión de TensorFlow: 2.12.0\n"
          ]
        }
      ],
      "source": [
        "import platform\n",
        "import cpuinfo\n",
        "import psutil\n",
        "import tensorflow as tf\n",
        "\n",
        "# Información del sistema operativo\n",
        "print(\"Sistema operativo:\", platform.system())\n",
        "print(\"Versión:\", platform.release())\n",
        "\n",
        "# Información de la CPU\n",
        "print(\"\\n--- CPU ---\")\n",
        "\n",
        "print(\"Arquitectura:\", platform.machine())\n",
        "print(\"Núcleos físicos:\", psutil.cpu_count(logical=False))\n",
        "print(\"Núcleos totales (incluyendo hilos lógicos):\", psutil.cpu_count(logical=True))\n",
        "\n",
        "# Información de la memoria RAM\n",
        "print(\"\\n--- Memoria RAM ---\")\n",
        "ram = psutil.virtual_memory()\n",
        "print(\"Total:\", round(ram.total / (1024 ** 3), 2), \"GB\")\n",
        "print(\"Disponible:\", round(ram.available / (1024 ** 3), 2), \"GB\")\n",
        "\n",
        "# Información de la GPU (si está disponible)\n",
        "print(\"\\n--- GPU ---\")\n",
        "gpus = tf.config.list_physical_devices(\"GPU\")\n",
        "if gpus:\n",
        "    for gpu in gpus:\n",
        "        print(\"Dispositivo GPU:\", gpu)\n",
        "        print(\"Nombre:\", gpu.name)\n",
        "        print(\"Memoria total:\", tf.compat.v1.GPUOptions(per_process_gpu_memory_fraction=0.8))\n",
        "else:\n",
        "    print(\"No se encontraron dispositivos GPU.\")\n",
        "\n",
        "# Comprobación de la versión de TensorFlow instalada\n",
        "print(\"\\nVersión de TensorFlow:\", tf.__version__)\n"
      ]
    }
  ]
}