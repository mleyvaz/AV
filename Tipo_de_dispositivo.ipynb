{
  "nbformat": 4,
  "nbformat_minor": 0,
  "metadata": {
    "colab": {
      "provenance": [],
      "authorship_tag": "ABX9TyNNEteGA2Vc6yF2efET7BQO",
      "include_colab_link": true
    },
    "kernelspec": {
      "name": "python3",
      "display_name": "Python 3"
    },
    "language_info": {
      "name": "python"
    },
    "accelerator": "TPU"
  },
  "cells": [
    {
      "cell_type": "markdown",
      "metadata": {
        "id": "view-in-github",
        "colab_type": "text"
      },
      "source": [
        "<a href=\"https://colab.research.google.com/github/mleyvaz/AV/blob/master/Tipo_de_dispositivo.ipynb\" target=\"_parent\"><img src=\"https://colab.research.google.com/assets/colab-badge.svg\" alt=\"Open In Colab\"/></a>"
      ]
    },
    {
      "cell_type": "code",
      "source": [
        "import tensorflow as tf\n",
        "\n",
        "# Verificar si se está ejecutando en una GPU\n",
        "def is_running_on_gpu():\n",
        "    if tf.test.is_gpu_available():\n",
        "        return True\n",
        "    else:\n",
        "        return False\n",
        "\n",
        "# Verificar si se está ejecutando en una TPU\n",
        "def is_running_on_tpu():\n",
        "    try:\n",
        "        resolver = tf.distribute.cluster_resolver.TPUClusterResolver()\n",
        "        tf.config.experimental_connect_to_cluster(resolver)\n",
        "        tf.tpu.experimental.initialize_tpu_system(resolver)\n",
        "        return True\n",
        "    except:\n",
        "        return False\n",
        "\n",
        "# Obtener el tipo de dispositivo (GPU, TPU o CPU)\n",
        "def get_device_type():\n",
        "    if is_running_on_tpu():\n",
        "        return \"TPU\"\n",
        "    elif is_running_on_gpu():\n",
        "        return \"GPU\"\n",
        "    else:\n",
        "        return \"CPU\"\n",
        "\n",
        "# Imprimir el tipo de dispositivo\n",
        "device_type = get_device_type()\n",
        "print(\"Tipo de dispositivo:\", device_type)\n"
      ],
      "metadata": {
        "colab": {
          "base_uri": "https://localhost:8080/"
        },
        "id": "vEAQjFOnL9cU",
        "outputId": "c2cd277b-c9c9-4ccf-b6fc-2a9f1c843b95"
      },
      "execution_count": 1,
      "outputs": [
        {
          "output_type": "stream",
          "name": "stdout",
          "text": [
            "Tipo de dispositivo: TPU\n"
          ]
        }
      ]
    },
    {
      "cell_type": "code",
      "execution_count": null,
      "metadata": {
        "id": "dpW6bHkgL44j"
      },
      "outputs": [],
      "source": [
        "\n",
        "  "
      ]
    }
  ]
}