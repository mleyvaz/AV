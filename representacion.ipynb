{
  "nbformat": 4,
  "nbformat_minor": 0,
  "metadata": {
    "colab": {
      "provenance": [],
      "authorship_tag": "ABX9TyPGvDt90QOcKb3iN/280cx4",
      "include_colab_link": true
    },
    "kernelspec": {
      "name": "python3",
      "display_name": "Python 3"
    },
    "language_info": {
      "name": "python"
    }
  },
  "cells": [
    {
      "cell_type": "markdown",
      "metadata": {
        "id": "view-in-github",
        "colab_type": "text"
      },
      "source": [
        "<a href=\"https://colab.research.google.com/github/mleyvaz/AV/blob/master/representacion.ipynb\" target=\"_parent\"><img src=\"https://colab.research.google.com/assets/colab-badge.svg\" alt=\"Open In Colab\"/></a>"
      ]
    },
    {
      "cell_type": "markdown",
      "source": [
        "Tabla de Frecuencia"
      ],
      "metadata": {
        "id": "nMfMRfMVhqR1"
      }
    },
    {
      "cell_type": "code",
      "execution_count": null,
      "metadata": {
        "id": "k1PCrAOmhnKW"
      },
      "outputs": [],
      "source": [
        "# Datos de ejemplo: colores de autos (reemplaza esto con tus propios datos)\n",
        "colores_autos = [\"Rojo\", \"Azul\", \"Verde\", \"Rojo\", \"Amarillo\", \"Azul\", \"Rojo\", \"Verde\", \"Negro\", \"Blanco\", \"Azul\"]\n",
        "\n",
        "# Crea un diccionario vacío para almacenar la tabla de frecuencia\n",
        "tabla_de_frecuencia = {}\n",
        "\n",
        "# Cuenta la frecuencia de cada color en la lista de colores de autos\n",
        "for color in colores_autos:\n",
        "    if color in tabla_de_frecuencia:\n",
        "        tabla_de_frecuencia[color] += 1\n",
        "    else:\n",
        "        tabla_de_frecuencia[color] = 1\n",
        "\n",
        "# Imprime la tabla de frecuencia\n",
        "print(\"Tabla de Frecuencia de Colores de Autos:\")\n",
        "for color, frecuencia in tabla_de_frecuencia.items():\n",
        "    print(f\"{color}: {frecuencia}\")\n"
      ]
    },
    {
      "cell_type": "markdown",
      "source": [
        "Distribución de frecuencia para datos cuantitativos"
      ],
      "metadata": {
        "id": "uZtSIWsajh0b"
      }
    },
    {
      "cell_type": "code",
      "source": [
        "import matplotlib.pyplot as plt\n",
        "\n",
        "# Datos de ejemplo\n",
        "datos = [15, 22, 25, 30, 35, 40, 42, 45, 50, 55, 58, 60, 65, 70, 72, 75, 80, 85, 90, 95]\n",
        "\n",
        "# Definir los límites de los intervalos (clases)\n",
        "intervalos = [0, 20, 40, 60, 80, 100]\n",
        "\n",
        "# Crear la distribución de frecuencia\n",
        "frecuencia, intervalo_bordes, _ = plt.hist(datos, bins=intervalos, edgecolor='k')\n",
        "\n",
        "# Etiquetas de los intervalos\n",
        "intervalo_etiquetas = [f'{intervalo_bordes[i]}-{intervalo_bordes[i+1]}' for i in range(len(intervalo_bordes) - 1)]\n",
        "\n",
        "# Configurar el gráfico\n",
        "plt.xlabel('Intervalos')\n",
        "plt.ylabel('Frecuencia')\n",
        "plt.title('Distribución de Frecuencia')\n",
        "plt.xticks(intervalo_bordes)\n",
        "plt.xticks(rotation=45)\n",
        "plt.grid(axis='y')\n",
        "\n",
        "\n",
        "\n",
        "# Mostrar el gráfico\n",
        "plt.show()\n"
      ],
      "metadata": {
        "id": "zoi0GXdujmqr"
      },
      "execution_count": null,
      "outputs": []
    },
    {
      "cell_type": "markdown",
      "source": [
        "Poligono de Frecuencia"
      ],
      "metadata": {
        "id": "B0AgSShGkfDn"
      }
    },
    {
      "cell_type": "code",
      "source": [
        "import matplotlib.pyplot as plt\n",
        "\n",
        "# Datos de ejemplo\n",
        "intervalos = [0, 1, 2, 3, 4]  # Límites de intervalos\n",
        "frecuencias = [10, 15, 28, 22, 12]  # Frecuencias correspondientes\n",
        "\n",
        "# Crear el polígono de frecuencia\n",
        "plt.plot(intervalos, frecuencias, marker='o', linestyle='-')\n",
        "\n",
        "# Configurar el gráfico\n",
        "plt.xlabel('Intervalos')\n",
        "plt.ylabel('Frecuencia')\n",
        "plt.title('Polígono de Frecuencia')\n",
        "\n",
        "# Mostrar el gráfico\n",
        "plt.grid()\n",
        "plt.show()\n"
      ],
      "metadata": {
        "id": "aSyq95CUkhqg"
      },
      "execution_count": null,
      "outputs": []
    }
  ]
}