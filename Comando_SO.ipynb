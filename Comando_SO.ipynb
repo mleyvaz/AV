{
  "nbformat": 4,
  "nbformat_minor": 0,
  "metadata": {
    "colab": {
      "provenance": [],
      "authorship_tag": "ABX9TyN9B/a/5LAsV96ObHF1Uwe+",
      "include_colab_link": true
    },
    "kernelspec": {
      "name": "python3",
      "display_name": "Python 3"
    },
    "language_info": {
      "name": "python"
    }
  },
  "cells": [
    {
      "cell_type": "markdown",
      "metadata": {
        "id": "view-in-github",
        "colab_type": "text"
      },
      "source": [
        "<a href=\"https://colab.research.google.com/github/mleyvaz/AV/blob/master/Comando_SO.ipynb\" target=\"_parent\"><img src=\"https://colab.research.google.com/assets/colab-badge.svg\" alt=\"Open In Colab\"/></a>"
      ]
    },
    {
      "cell_type": "code",
      "execution_count": null,
      "metadata": {
        "id": "ta9-SNh7Wh1o"
      },
      "outputs": [],
      "source": [
        "import subprocess\n",
        "\n",
        "comando = \"ls\"\n",
        "resultado = subprocess.run(comando, shell=True, stdout=subprocess.PIPE, stderr=subprocess.PIPE)\n",
        "\n",
        "salida = resultado.stdout.decode(\"utf-8\")\n",
        "errores = resultado.stderr.decode(\"utf-8\")\n",
        "\n",
        "print(\"Salida: \", salida)\n",
        "print(\"Errores: \", errores)"
      ]
    }
  ]
}