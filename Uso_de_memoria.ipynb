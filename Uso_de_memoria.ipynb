{
  "nbformat": 4,
  "nbformat_minor": 0,
  "metadata": {
    "colab": {
      "provenance": [],
      "authorship_tag": "ABX9TyMKsRg5UfbghTj2clHU6jtS",
      "include_colab_link": true
    },
    "kernelspec": {
      "name": "python3",
      "display_name": "Python 3"
    },
    "language_info": {
      "name": "python"
    }
  },
  "cells": [
    {
      "cell_type": "markdown",
      "metadata": {
        "id": "view-in-github",
        "colab_type": "text"
      },
      "source": [
        "<a href=\"https://colab.research.google.com/github/mleyvaz/AV/blob/master/Uso_de_memoria.ipynb\" target=\"_parent\"><img src=\"https://colab.research.google.com/assets/colab-badge.svg\" alt=\"Open In Colab\"/></a>"
      ]
    },
    {
      "cell_type": "code",
      "execution_count": 15,
      "metadata": {
        "colab": {
          "base_uri": "https://localhost:8080/"
        },
        "id": "KtJOmHY-LN6S",
        "outputId": "bbe79599-1ba1-4897-9f48-5064b640e885"
      },
      "outputs": [
        {
          "output_type": "stream",
          "name": "stdout",
          "text": [
            "(289033, 429362)\n"
          ]
        }
      ],
      "source": [
        "# importing the module\n",
        "import tracemalloc\n",
        " \n",
        "# code or function for which memory\n",
        "# has to be monitored\n",
        "\n",
        "def app():\n",
        "  a=3\n",
        "  b=4\n",
        "  c=0\n",
        "    \n",
        "  for i in range(0, 100000):\n",
        "      c=a\n",
        "      a=b\n",
        "      b=c\n",
        "      \n",
        " \n",
        "# starting the monitoring\n",
        "tracemalloc.start()\n",
        " \n",
        "# function call\n",
        "app()\n",
        " \n",
        "# displaying the memory\n",
        "print(tracemalloc.get_traced_memory())\n",
        " \n",
        "# stopping the library\n",
        "tracemalloc.stop()"
      ]
    },
    {
      "cell_type": "markdown",
      "source": [
        "*Salida \n",
        "\n",
        "La salida se da en forma de (actual, pico), es decir, la memoria actual es la memoria que el código está usando actualmente y la memoria pico es el espacio máximo que usó el programa durante la ejecución."
      ],
      "metadata": {
        "id": "rsnpiUDILfQM"
      }
    }
  ]
}