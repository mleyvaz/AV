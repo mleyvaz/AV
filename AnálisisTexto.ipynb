{
  "nbformat": 4,
  "nbformat_minor": 0,
  "metadata": {
    "colab": {
      "provenance": [],
      "authorship_tag": "ABX9TyNpvmUXfIiHi1BDDUwLURFw",
      "include_colab_link": true
    },
    "kernelspec": {
      "name": "python3",
      "display_name": "Python 3"
    },
    "language_info": {
      "name": "python"
    }
  },
  "cells": [
    {
      "cell_type": "markdown",
      "metadata": {
        "id": "view-in-github",
        "colab_type": "text"
      },
      "source": [
        "<a href=\"https://colab.research.google.com/github/mleyvaz/AV/blob/master/An%C3%A1lisisTexto.ipynb\" target=\"_parent\"><img src=\"https://colab.research.google.com/assets/colab-badge.svg\" alt=\"Open In Colab\"/></a>"
      ]
    },
    {
      "cell_type": "code",
      "execution_count": 1,
      "metadata": {
        "colab": {
          "base_uri": "https://localhost:8080/"
        },
        "id": "sk-Z1urTt4jo",
        "outputId": "9d45a94e-9aa4-4772-f822-e9281d1b0951"
      },
      "outputs": [
        {
          "output_type": "stream",
          "name": "stdout",
          "text": [
            "10 palabras más frecuentes:\n",
            "ejemplo: 2\n",
            "texto: 2\n",
            "este: 1\n",
            "es: 1\n",
            "un: 1\n",
            "de: 1\n",
            "que: 1\n",
            "se: 1\n",
            "va: 1\n",
            "a: 1\n"
          ]
        }
      ],
      "source": [
        "import string\n",
        "from collections import Counter\n",
        "\n",
        "def analyze_text(text):\n",
        "    # Eliminar puntuaciones y convertir todas las letras a minúsculas\n",
        "    text = text.translate(str.maketrans(\"\", \"\", string.punctuation)).lower()\n",
        "    # Dividir el texto en palabras\n",
        "    words = text.split()\n",
        "    # Contar la frecuencia de cada palabra\n",
        "    word_frequency = Counter(words)\n",
        "    # Imprimir las 10 palabras más frecuentes\n",
        "    print(\"10 palabras más frecuentes:\")\n",
        "    for word, frequency in word_frequency.most_common(10):\n",
        "        print(f\"{word}: {frequency}\")\n",
        "\n",
        "text = \"Este es un ejemplo de texto que se va a analizar. Aquí podemos ver algunas palabras repetidas como 'ejemplo' y 'texto'\"\n",
        "analyze_text(text)\n"
      ]
    }
  ]
}