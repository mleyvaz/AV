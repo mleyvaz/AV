{
  "nbformat": 4,
  "nbformat_minor": 0,
  "metadata": {
    "colab": {
      "provenance": [],
      "authorship_tag": "ABX9TyPGMfeeHnQ/SYTG1DDwPjzL",
      "include_colab_link": true
    },
    "kernelspec": {
      "name": "python3",
      "display_name": "Python 3"
    },
    "language_info": {
      "name": "python"
    }
  },
  "cells": [
    {
      "cell_type": "markdown",
      "metadata": {
        "id": "view-in-github",
        "colab_type": "text"
      },
      "source": [
        "<a href=\"https://colab.research.google.com/github/mleyvaz/AV/blob/master/SQLITE.ipynb\" target=\"_parent\"><img src=\"https://colab.research.google.com/assets/colab-badge.svg\" alt=\"Open In Colab\"/></a>"
      ]
    },
    {
      "cell_type": "code",
      "execution_count": null,
      "metadata": {
        "id": "3zvc7komVTG4"
      },
      "outputs": [],
      "source": [
        "# Instalar SQLite \n",
        "!apt-get install sqlite3"
      ]
    },
    {
      "cell_type": "code",
      "source": [
        "\n",
        "\n",
        "# Crear una conexión a la base de datos SQLite\n",
        "import sqlite3\n",
        "conn = sqlite3.connect('mydatabase.db')\n",
        "\n",
        "# Crear una tabla en la base de datos\n",
        "cursor = conn.cursor()\n",
        "cursor.execute('''CREATE TABLE users\n",
        "                (id INTEGER PRIMARY KEY, name TEXT, age INTEGER)''')\n",
        "conn.commit()\n",
        "\n",
        "# Cerrar la conexión a la base de datos\n",
        "conn.close()\n"
      ],
      "metadata": {
        "id": "ES490hY8VT3K"
      },
      "execution_count": null,
      "outputs": []
    },
    {
      "cell_type": "markdown",
      "source": [
        "#CRUD"
      ],
      "metadata": {
        "id": "DESPQEi0Wi0L"
      }
    },
    {
      "cell_type": "code",
      "source": [
        "# Conectar a la base de datos SQLite\n",
        "import sqlite3\n",
        "conn = sqlite3.connect('mydatabase.db')\n",
        "cursor = conn.cursor()\n",
        "\n",
        "# Definir función para crear un nuevo usuario\n",
        "def create_user(name, age):\n",
        "    cursor.execute(\"INSERT INTO users (name, age) VALUES (?, ?)\", (name, age))\n",
        "    conn.commit()\n",
        "\n",
        "# Definir función para obtener todos los usuarios\n",
        "def read_users():\n",
        "    cursor.execute(\"SELECT * FROM users\")\n",
        "    return cursor.fetchall()\n",
        "\n",
        "# Definir función para actualizar un usuario\n",
        "def update_user(id, name, age):\n",
        "    cursor.execute(\"UPDATE users SET name=?, age=? WHERE id=?\", (name, age, id))\n",
        "    conn.commit()\n",
        "\n",
        "# Definir función para eliminar un usuario\n",
        "def delete_user(id):\n",
        "    cursor.execute(\"DELETE FROM users WHERE id=?\", (id,))\n",
        "    conn.commit()\n",
        "\n",
        "\n"
      ],
      "metadata": {
        "id": "u03BIBleWh8Q"
      },
      "execution_count": null,
      "outputs": []
    },
    {
      "cell_type": "markdown",
      "source": [
        "# Probar \n",
        "Una vez que hemos definido las funciones CRUD, podemos probarlas para verificar si funcionan correctamente:"
      ],
      "metadata": {
        "id": "Kl845iVCXVqm"
      }
    },
    {
      "cell_type": "code",
      "source": [
        "# Crear un nuevo usuario\n",
        "create_user(\"Juan\", 25)\n",
        "\n",
        "# Obtener todos los usuarios\n",
        "users = read_users()\n",
        "print(users)\n",
        "\n",
        "# Actualizar un usuario\n",
        "update_user(1, \"Juan Perez\", 26)\n",
        "\n",
        "# Obtener todos los usuarios\n",
        "users = read_users()\n",
        "print(users)\n",
        "\n",
        "# Eliminar un usuario\n",
        "delete_user(1)\n",
        "\n",
        "# Obtener todos los usuarios\n",
        "users = read_users()\n",
        "print(users)\n",
        "# Cerrar la conexión a la base de datos\n",
        "conn.close()\n"
      ],
      "metadata": {
        "id": "tF-AO5utXVJA"
      },
      "execution_count": null,
      "outputs": []
    },
    {
      "cell_type": "markdown",
      "source": [
        "# Ejercicio 1 \n",
        "Desarrolle un script para crear  dos nuevo usuario con el nombre \"Pepe\" y la edad \"31\" y \"Juan\" y la edad 25 . Luego imprimirá todos los usuarios en la tabla users. A continuación, actualizará el usuario con el ID 2 con el nombre \"Pepe Pérez\" y la edad \"30\", e imprimirá todos los usuarios en la tabla users de nuevo. Finalmente, eliminará el usuario con el ID 2 y volverá a imprimir todos los usuarios en la tabla users. "
      ],
      "metadata": {
        "id": "P1m8GuZwWvEm"
      }
    },
    {
      "cell_type": "markdown",
      "source": [
        "# Crear JSON\n",
        "\n"
      ],
      "metadata": {
        "id": "GOfHJIPcbSVK"
      }
    },
    {
      "cell_type": "code",
      "source": [
        "import sqlite3\n",
        "import json\n",
        "\n",
        "# Conectar a la base de datos SQLite\n",
        "conn = sqlite3.connect('mydatabase.db')\n",
        "\n",
        "# Ejecutar una consulta SQL para obtener los datos de la tabla\n",
        "cursor = conn.cursor()\n",
        "cursor.execute(\"SELECT * FROM users\")\n",
        "rows = cursor.fetchall()\n",
        "\n",
        "# Convertir los datos en un formato JSON\n",
        "data = []\n",
        "for row in rows:\n",
        "    data.append({\n",
        "        'id': row[0],\n",
        "        'name': row[1],\n",
        "        'age': row[2]\n",
        "    })\n",
        "json_data = json.dumps(data)\n",
        "\n",
        "# Guardar los datos en un archivo JSON\n",
        "with open('users.json', 'w') as f:\n",
        "    f.write(json_data)\n",
        "\n",
        "# Cerrar la conexión a la base de datos\n",
        "conn.close()\n"
      ],
      "metadata": {
        "id": "CP0X3j4hbXpG"
      },
      "execution_count": 9,
      "outputs": []
    }
  ]
}