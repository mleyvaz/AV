{
  "nbformat": 4,
  "nbformat_minor": 0,
  "metadata": {
    "colab": {
      "provenance": [],
      "gpuType": "T4",
      "authorship_tag": "ABX9TyMOXspz2p5t/mfRllcmIc2S",
      "include_colab_link": true
    },
    "kernelspec": {
      "name": "python3",
      "display_name": "Python 3"
    },
    "language_info": {
      "name": "python"
    }
  },
  "cells": [
    {
      "cell_type": "markdown",
      "metadata": {
        "id": "view-in-github",
        "colab_type": "text"
      },
      "source": [
        "<a href=\"https://colab.research.google.com/github/mleyvaz/AV/blob/master/CPU_vs_GPU.ipynb\" target=\"_parent\"><img src=\"https://colab.research.google.com/assets/colab-badge.svg\" alt=\"Open In Colab\"/></a>"
      ]
    },
    {
      "cell_type": "code",
      "execution_count": 2,
      "metadata": {
        "id": "roBcqnvrTo-z",
        "outputId": "b5bc919c-40db-4c3b-97a1-e3db4d210865",
        "colab": {
          "base_uri": "https://localhost:8080/"
        },
        "collapsed": true
      },
      "outputs": [
        {
          "output_type": "stream",
          "name": "stdout",
          "text": [
            "Resultado: tensor([[ 15.8080,  -8.0860, -26.1594,  ..., -31.9487,  15.4799,  49.5815],\n",
            "        [ 12.2975,  -8.9142,  -4.6946,  ..., -13.5286, -34.4219, -13.3171],\n",
            "        [ -1.9349,  33.6060, -21.7183,  ..., -37.8818,  -0.3950, -17.0130],\n",
            "        ...,\n",
            "        [ -6.8707,  44.3412, -11.3637,  ...,   9.1165, -67.0340,   7.9202],\n",
            "        [ -3.4665, -51.4042,  15.8406,  ...,  31.5940,  74.6253,  16.8722],\n",
            "        [  8.5372,   6.5492,  -1.8231,  ...,   2.5471,  -1.9835,   1.6572]])\n",
            "Tiempo de ejecución: 0.052276611328125 segundos\n"
          ]
        }
      ],
      "source": [
        "import torch\n",
        "import time\n",
        "\n",
        "# Comprobamos si hay una GPU disponible\n",
        "if torch.cuda.is_available():\n",
        "    device = torch.device(\"cuda\")\n",
        "else:\n",
        "    device = torch.device(\"cpu\")\n",
        "\n",
        "# Definimos una función de ejemplo que realizará cálculos intensivos\n",
        "def perform_computation():\n",
        "    a = torch.randn(1000, 1000).to(device)\n",
        "    b = torch.randn(1000, 1000).to(device)\n",
        "    c = torch.matmul(a, b)\n",
        "    return c\n",
        "\n",
        "# Medimos el tiempo de ejecución\n",
        "start_time = time.time()\n",
        "\n",
        "# Ejecutamos la función en la GPU\n",
        "result = perform_computation()\n",
        "\n",
        "# Calculamos el tiempo de ejecución\n",
        "execution_time = time.time() - start_time\n",
        "\n",
        "# Imprimimos el resultado y el tiempo de ejecución\n",
        "print(\"Resultado:\", result)\n",
        "print(\"Tiempo de ejecución:\", execution_time, \"segundos\")\n"
      ]
    }
  ]
}