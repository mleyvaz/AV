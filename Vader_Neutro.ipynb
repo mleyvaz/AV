{
  "nbformat": 4,
  "nbformat_minor": 0,
  "metadata": {
    "colab": {
      "provenance": [],
      "authorship_tag": "ABX9TyMScpel5YXLOUOMywX+lpZP",
      "include_colab_link": true
    },
    "kernelspec": {
      "name": "python3",
      "display_name": "Python 3"
    },
    "language_info": {
      "name": "python"
    }
  },
  "cells": [
    {
      "cell_type": "markdown",
      "metadata": {
        "id": "view-in-github",
        "colab_type": "text"
      },
      "source": [
        "<a href=\"https://colab.research.google.com/github/mleyvaz/AV/blob/master/Vader_Neutro.ipynb\" target=\"_parent\"><img src=\"https://colab.research.google.com/assets/colab-badge.svg\" alt=\"Open In Colab\"/></a>"
      ]
    },
    {
      "cell_type": "code",
      "execution_count": 1,
      "metadata": {
        "colab": {
          "base_uri": "https://localhost:8080/"
        },
        "id": "Ej4D_1QrPJLi",
        "outputId": "d2ce87b8-9d8b-44b9-8738-77856fb61494"
      },
      "outputs": [
        {
          "output_type": "stream",
          "name": "stderr",
          "text": [
            "[nltk_data] Downloading package vader_lexicon to /root/nltk_data...\n"
          ]
        },
        {
          "output_type": "execute_result",
          "data": {
            "text/plain": [
              "True"
            ]
          },
          "metadata": {},
          "execution_count": 1
        }
      ],
      "source": [
        "import nltk\n",
        "\n",
        "nltk.download('vader_lexicon')"
      ]
    },
    {
      "cell_type": "code",
      "source": [
        "from nltk.sentiment.vader import SentimentIntensityAnalyzer\n",
        "\n",
        "# Creamos un objeto SentimentIntensityAnalyzer\n",
        "analyzer = SentimentIntensityAnalyzer()\n",
        "\n",
        "# Oración de ejemplo\n",
        "text = \"El cielo despejado y el canto de los pájaros me generan una sensación de paz y felicidad, aunque la pandemia ha traído consigo mucho sufrimiento y dolor en el mundo.\"\n",
        "\n",
        "# Analizamos la polaridad de la oración\n",
        "scores = analyzer.polarity_scores(text)\n",
        "\n",
        "# Mostramos los resultados en números enutrosoficos\n",
        "print(\"Negatividad: \", -scores['neg'])\n",
        "print(\"Neutralidad: \", scores['neu'])\n",
        "print(\"Positividad: \", scores['pos'])\n",
        "svn=(scores['pos'],  scores['neu'], scores['neg'])\n",
        "print(\"Compuesto: \", scores['compound'])\n",
        "svn\n"
      ],
      "metadata": {
        "colab": {
          "base_uri": "https://localhost:8080/"
        },
        "id": "lhkWU7aUPRU3",
        "outputId": "e0742158-3e0b-4a87-9c82-1e98be9d023b"
      },
      "execution_count": 6,
      "outputs": [
        {
          "output_type": "stream",
          "name": "stdout",
          "text": [
            "Negatividad:  -0.0\n",
            "Neutralidad:  0.915\n",
            "Positividad:  0.085\n",
            "Compuesto:  0.34\n"
          ]
        },
        {
          "output_type": "execute_result",
          "data": {
            "text/plain": [
              "(0.085, 0.915, 0.0)"
            ]
          },
          "metadata": {},
          "execution_count": 6
        }
      ]
    }
  ]
}